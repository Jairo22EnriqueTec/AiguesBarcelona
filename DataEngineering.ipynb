{
 "cells": [
  {
   "cell_type": "code",
   "execution_count": 1,
   "metadata": {},
   "outputs": [],
   "source": [
    "import pandas as pd\n",
    "import numpy as np\n",
    "import os\n",
    "import datetime\n",
    "from datetime import date, timedelta\n",
    "import re\n",
    "from prophet import Prophet\n",
    "import calendar"
   ]
  },
  {
   "cell_type": "code",
   "execution_count": 2,
   "metadata": {},
   "outputs": [],
   "source": [
    "path=\"C:/Users/usuario/Documents/ABDataChallenge/\""
   ]
  },
  {
   "cell_type": "code",
   "execution_count": 3,
   "metadata": {},
   "outputs": [],
   "source": [
    "def read_csvfile(path,folder,file,skip_rows,skip_fotter,s):\n",
    "    ## Lectura de ficheros csv (sep=, ), en este caso son los ficheros obtenidos por fuentes públicas (INE)\n",
    "    path_extension=''\n",
    "    if folder!=\"\":\n",
    "        for fd in folder:\n",
    "            path_extension+=fd+'/'\n",
    "    path_extension+=file\n",
    "    df = pd.read_csv(path+path_extension,skiprows=skip_rows,skipfooter=skip_fotter,sep=s)\n",
    "    return df\n",
    "\n",
    "def read_xlxs(path,folder,file,skip_rows,skip_fotter):\n",
    "    ## Lectura de ficheros xlsx, en este caso son los ficheros proporcionados por AB\n",
    "    path_extension=''\n",
    "    if folder!=\"\":\n",
    "        for fd in folder:\n",
    "            path_extension+=fd+'/'\n",
    "    path_extension+=file\n",
    "    df = pd.read_excel(path+path_extension,skiprows=skip_rows,skipfooter=skip_fotter)\n",
    "    return df\n",
    "\n",
    "def read_json(path,folder,file):\n",
    "    path_extension=''\n",
    "    for fd in folder:\n",
    "        path_extension+=fd+'/'\n",
    "    path_extension+=file\n",
    "    gdf = pd.read_json(path+path_extension)\n",
    "    return gdf\n"
   ]
  },
  {
   "cell_type": "code",
   "execution_count": 4,
   "metadata": {},
   "outputs": [],
   "source": [
    "def week_of_month(tgtdate):\n",
    "   \n",
    "    days_this_month = calendar.mdays[tgtdate.month]\n",
    "    for i in range(1, days_this_month):\n",
    "        d = datetime.datetime(tgtdate.year, tgtdate.month, i)\n",
    "        if d.day - d.weekday() > 0:\n",
    "            startdate = d\n",
    "            break\n",
    "    # now we cause the modulo 7 appraoch\n",
    "    return (tgtdate - startdate).days //7 + 1"
   ]
  },
  {
   "cell_type": "code",
   "execution_count": 5,
   "metadata": {},
   "outputs": [],
   "source": [
    "def matching_ds_data(s_ds,e_ds,list_cod_mun,column):\n",
    "    data_values=[]\n",
    "    r_dias=pd.date_range(s_ds,e_ds-timedelta(days=1),freq='d')\n",
    "    for cod_mun in list_cod_mun:\n",
    "        for dia in r_dias:\n",
    "            data_values.append([cod_mun,dia.to_numpy(),0])    \n",
    "    return pd.DataFrame(data=data_values,columns=[\"cod_mun\",\"ds\",column])"
   ]
  },
  {
   "cell_type": "code",
   "execution_count": 6,
   "metadata": {},
   "outputs": [],
   "source": [
    "def date_conversion(fecha,split_s):\n",
    "    array_fecha=fecha.split(split_s)\n",
    "    return date(int(array_fecha[2]),int(array_fecha[1]),int(array_fecha[0]))"
   ]
  },
  {
   "cell_type": "code",
   "execution_count": 7,
   "metadata": {},
   "outputs": [],
   "source": [
    "def redo_string(s):\n",
    "    string = re.sub(r\"\\ +\", '', s)\n",
    "    return string"
   ]
  },
  {
   "cell_type": "code",
   "execution_count": 8,
   "metadata": {},
   "outputs": [],
   "source": [
    "def rank_renta(renta,df_describe):\n",
    "    if renta<df_describe[df_describe[\"index\"]==\"25%\"].values[0][1]:\n",
    "        return 1\n",
    "    elif df_describe[df_describe[\"index\"]==\"25%\"].values[0][1]<=renta and renta<df_describe[df_describe[\"index\"]==\"50%\"].values[0][1]:\n",
    "        return 2\n",
    "    elif df_describe[df_describe[\"index\"]==\"50%\"].values[0][1]<=renta and renta<df_describe[df_describe[\"index\"]==\"75%\"].values[0][1]:\n",
    "        return 3\n",
    "    else:\n",
    "        return 4"
   ]
  },
  {
   "cell_type": "code",
   "execution_count": 9,
   "metadata": {},
   "outputs": [],
   "source": [
    "def trnf_renta(df):\n",
    "\n",
    "    df.rename(columns = {' ':'Territorio'}, inplace = True)\n",
    "\n",
    "    #Selecciono només aquelles localitzacions que pertanyen a seccions\n",
    "    df['Territorio'].replace('', np.nan, inplace=True)\n",
    "    df.replace('.', np.nan, inplace=True)\n",
    "    df.dropna(subset=['Territorio'], inplace=True)\n",
    "\n",
    "    #Faig una extracció de l'identificador únic per secció anomenat CUSEC que esta dintre de la columna Location\n",
    "    df[['cod_mun','nom_mun']] = df.Territorio.str.split(\" \",expand=True,n=1)\n",
    "\n",
    "    df[['cod_mun','nom_mun']] = df.Territorio.str.split(\" \",expand=True,n=1)\n",
    "    new_df=df[df.cod_mun.apply(lambda x: len(str(x))==5)]\n",
    "    \n",
    "\n",
    "    return new_df.drop([\"Territorio\"],axis=1)\n"
   ]
  },
  {
   "cell_type": "code",
   "execution_count": 10,
   "metadata": {},
   "outputs": [],
   "source": [
    "def string_to_float(s):\n",
    "    try:\n",
    "        list_s=s.split(\",\")\n",
    "        return float(list_s[0].replace(\".\", \"\"))\n",
    "    except:\n",
    "        return s\n",
    "    \n",
    "def trnf_dpfi(df):\n",
    "    df=df[(df.Distritos.isna())&(df.Secciones.isna())]\n",
    "    new_df=df[df[\"Periodo\"].isin([2019,2020])][[\"Municipios\",\"Distribución por fuente de ingresos\",\"Periodo\",\"Total\"]]\n",
    "    new_df[['cod_mun','nom_mun']] = new_df.Municipios.str.split(\" \",expand=True,n=1)\n",
    "    new_df.drop([\"Municipios\"],axis=1,inplace=True)\n",
    "    df['Total'].replace('.', np.nan, inplace=True)\n",
    "    new_df[\"Total_num\"]=new_df.apply(lambda x: string_to_float(x['Total']), axis=1)\n",
    "    new_df[\"Total_num\"]=new_df[\"Total_num\"].replace(\".\",np.nan)\n",
    "    return new_df\n",
    "\n",
    "def prctg_distribucion(df):\n",
    "    \n",
    "    columns_op=['Fuente de ingreso: otras prestaciones','Fuente de ingreso: otros ingresos', 'Fuente de ingreso: pensiones',\n",
    "             'Fuente de ingreso: prestaciones por desempleo','Fuente de ingreso: salario', 'Renta bruta media por persona']\n",
    "    columns=['cod_mun', 'nom_mun','Periodo','Renta bruta media por persona']\n",
    "    \n",
    "    df_op=df[columns_op]\n",
    "    df_op=df_op[['Fuente de ingreso: otras prestaciones','Fuente de ingreso: otros ingresos', 'Fuente de ingreso: pensiones',\n",
    "             'Fuente de ingreso: prestaciones por desempleo','Fuente de ingreso: salario',]].div(df['Renta bruta media por persona'], axis=0)*100\n",
    "    df_op=np.round(df_op, decimals=2)\n",
    "    new_df=pd.concat([df[columns],df_op], axis=1, sort=False)\n",
    "    return new_df"
   ]
  },
  {
   "cell_type": "code",
   "execution_count": 11,
   "metadata": {},
   "outputs": [],
   "source": [
    "def trnf_indGini(df):\n",
    "    new_df=df[(df[\"Distritos\"].isna())&(df[\"Secciones\"].isna())]\n",
    "    new_df[['cod_mun','nom_mun']] = new_df.Municipios.str.split(\" \",expand=True,n=1)\n",
    "    new_df.drop([\"Municipios\",\"Distritos\",\"Secciones\"], axis=1,inplace=True)\n",
    "    new_df_pivot = pd.pivot_table(new_df, values='Total', index=['cod_mun','nom_mun','Periodo'],\n",
    "                                     columns=['Índice de Gini y Distribución de la renta P80/P20'], aggfunc=np.sum).reset_index()\n",
    "    return new_df_pivot.reset_index(drop=True)"
   ]
  },
  {
   "cell_type": "code",
   "execution_count": 12,
   "metadata": {},
   "outputs": [],
   "source": [
    "def trnf_indDmg(df):\n",
    "    new_df=df[(df[\"Distritos\"].isna())&(df[\"Secciones\"].isna())]\n",
    "    new_df[['cod_mun','nom_mun']] = new_df.Municipios.str.split(\" \",expand=True,n=1)\n",
    "    new_df.drop([\"Municipios\",\"Distritos\",\"Secciones\"], axis=1,inplace=True)\n",
    "    new_df_pivot = pd.pivot_table(new_df, values='Total', index=['cod_mun','nom_mun','Periodo'],\n",
    "                                     columns=['Indicadores demográficos'], aggfunc=np.sum).reset_index()\n",
    "    return new_df_pivot"
   ]
  },
  {
   "cell_type": "code",
   "execution_count": 13,
   "metadata": {},
   "outputs": [],
   "source": [
    "def melt_df(df):\n",
    "    return pd.melt(df, id_vars=['cod_mun'], value_vars=np.delete(df.columns.values,0),var_name='intervalo_edat', value_name='value')\n",
    "\n",
    "def group_age(df):\n",
    "    drop_columns=np.delete(df.columns,-1)\n",
    "\n",
    "    df[\"juvenil\"]=df[\"0-4\"]+df[\"5-9\"]+df[\"10-14\"]+df[\"15-19\"]\n",
    "    df[\"adulto-junior\"]=df[\"20-24\"]+df[\"25-29\"]+df[\"30-34\"]+df[\"35-39\"]\n",
    "    df[\"adulto-senior\"]=df[\"40-44\"]+df[\"45-49\"]+df[\"50-54\"]+df[\"55-59\"]\n",
    "    df[\"anciano\"]=df[\"60-64\"]+df[\"65-69\"]+df[\"70-74\"]+df[\"75-79\"]+df[\"80-84\"]+df[\"85-89\"]+df[\"90-94\"]+df[\"95-99\"]+df[\"100 y más\"]\n",
    "\n",
    "    df.drop(drop_columns,axis=1,inplace=True)\n",
    "    return df\n",
    "\n",
    "def trnf_transformacion(df):\n",
    "    df.rename(columns = {' ':'CUSEC'}, inplace = True)\n",
    "    df.drop(columns=['Total'], inplace = True)\n",
    "    df[\"CUSEC\"]=df.apply(lambda x: redo_string(x[\"CUSEC\"]), axis=1)\n",
    "\n",
    "    df=df[df[\"CUSEC\"]!='TOTAL']\n",
    "    df.reset_index(drop=True,inplace=True)\n",
    "\n",
    "    idx_h=df[df[\"CUSEC\"]==\"Hombres\"].index[0] \n",
    "    idx_m=df[df[\"CUSEC\"]==\"Mujeres\"].index[0]\n",
    "\n",
    "    df_h=df.iloc[idx_h+1:idx_m]\n",
    "    df_h[\"cod_mun\"]=df_h.CUSEC.str[0:5]\n",
    "    df_h.drop([\"CUSEC\"],axis=1,inplace=True)\n",
    "    df_h_mun=df_h.groupby(df_h.columns.tolist()).sum().reset_index()\n",
    "    df_h_mumG=group_age(df_h_mun)\n",
    "    df_h_munMelt=melt_df(df_h_mumG)\n",
    "    df_h_munMelt[\"genero\"]=\"hombre\"\n",
    "    \n",
    "    df_m=df.iloc[idx_m+1:]\n",
    "    df_m[\"cod_mun\"]=df_m.CUSEC.str[0:5]\n",
    "    df_m.drop([\"CUSEC\"],axis=1,inplace=True)\n",
    "    df_m_mun=df_m.groupby(df_m.columns.tolist()).sum().reset_index()\n",
    "    df_m_mumG=group_age(df_m_mun)\n",
    "    df_m_munMelt=melt_df(df_m_mumG)\n",
    "    df_m_munMelt[\"Genero\"]=\"mujer\"\n",
    "    \n",
    "    df_poblacion=pd.concat([df_h_munMelt,df_m_munMelt],ignore_index=True)\n",
    "   \n",
    "    \n",
    "    return df_poblacion"
   ]
  },
  {
   "cell_type": "code",
   "execution_count": 14,
   "metadata": {},
   "outputs": [],
   "source": [
    "\"\"\"\n",
    "def trnf_dataConsumo(df):\n",
    "    df=df[df.CONSUMO > 0]\n",
    "    _,bp = pd.DataFrame.boxplot(df.CONSUMO, return_type='both')\n",
    "    outliers = [flier.get_ydata() for flier in bp[\"fliers\"]]\n",
    "    df=df[df.CONSUMO < min(outliers[0])]\n",
    "    df[\"ds\"]=pd.to_datetime(df.FECHA, errors='coerce')\n",
    "    df=df[[\"ds\",\"ID_CONTADOR\",\"CONSUMO\"]]\n",
    "    df=df.sort_values(\"ds\")\n",
    "    df['week'] = df[\"ds\"].apply(week_of_month)\n",
    "    df[\"year\"]=df.ds.dt.year\n",
    "    df[\"month\"]=df.ds.dt.month\n",
    "    df[\"day\"]=df.ds.dt.day\n",
    "    df[\"start_day\"]= df.groupby(['year','month','week'])['day'].transform('min')\n",
    "    df.drop(['ds','day'],axis=1,inplace=True)\n",
    "    df=df.groupby([\"ID_CONTADOR\",\"year\",\"month\",\"week\",\"start_day\"]).sum().reset_index()\n",
    "    df[\"ds\"]=df[\"start_day\"].astype(str)+\"-\"+df[\"month\"].astype(str)+\"-\"+df[\"year\"].astype(str)\n",
    "    df[\"ds\"]= pd.to_datetime(df[\"ds\"], format='%d-%m-%Y', errors='coerce')\n",
    "    df=df[[\"ds\",\"ID_CONTADOR\",\"CONSUMO\"]]\n",
    "    return df\n",
    "\"\"\""
   ]
  },
  {
   "cell_type": "code",
   "execution_count": 44,
   "metadata": {},
   "outputs": [],
   "source": [
    "\"\"\"\n",
    "def trnf_dataConsumo(df,group_column,remove_outliers=True):\n",
    "    df=df[df.CONSUMO > 0]\n",
    "    _,bp = pd.DataFrame.boxplot(df.CONSUMO, return_type='both')\n",
    "    outliers = [flier.get_ydata() for flier in bp[\"fliers\"]]\n",
    "    if remove_outliers:\n",
    "        df=df[df.CONSUMO < min(outliers[0])]\n",
    "    df[\"ds\"]=pd.to_datetime(df.FECHA, errors='coerce')\n",
    "    df=df[[\"ds\",group_column,\"CONSUMO\"]]\n",
    "    df=df.sort_values(\"ds\")\n",
    "    df['week'] = df[\"ds\"].apply(week_of_month)\n",
    "    df[\"year\"]=df.ds.dt.year\n",
    "    df[\"month\"]=df.ds.dt.month\n",
    "    df[\"day\"]=df.ds.dt.day\n",
    "    df[\"start_day\"]= df.groupby(['year','month','week'])['day'].transform('min')\n",
    "    df.drop(['ds','day'],axis=1,inplace=True)\n",
    "    df=df.groupby([group_column,\"year\",\"month\",\"week\",\"start_day\"]).sum().reset_index()\n",
    "    df[\"ds\"]=df[\"start_day\"].astype(str)+\"-\"+df[\"month\"].astype(str)+\"-\"+df[\"year\"].astype(str)\n",
    "    df[\"ds\"]= pd.to_datetime(df[\"ds\"], format='%d-%m-%Y', errors='coerce')\n",
    "    df=df[[\"ds\",group_column,\"CONSUMO\"]]\n",
    "    return df\n",
    "\"\"\""
   ]
  },
  {
   "cell_type": "code",
   "execution_count": 71,
   "metadata": {},
   "outputs": [],
   "source": [
    "\n",
    "def trnf_dataConsumo(df,group_column,remove_outliers=True):\n",
    "    df=df[df.CONSUMO > 0]\n",
    "    _,bp = pd.DataFrame.boxplot(df.CONSUMO, return_type='both')\n",
    "    outliers = [flier.get_ydata() for flier in bp[\"fliers\"]]\n",
    "    if remove_outliers:\n",
    "        df=df[df.CONSUMO < min(outliers[0])]\n",
    "    df[\"ds\"]=pd.to_datetime(df.FECHA, errors='coerce')\n",
    "    df=df[[\"ds\",\"CONSUMO\"]+group_column]\n",
    "    df=df.sort_values(\"ds\")\n",
    "    df['week'] = df[\"ds\"].apply(week_of_month)\n",
    "    df[\"year\"]=df.ds.dt.year\n",
    "    df[\"month\"]=df.ds.dt.month\n",
    "    df[\"day\"]=df.ds.dt.day\n",
    "    df[\"start_day\"]= df.groupby(['year','month','week'])['day'].transform('min')\n",
    "    df.drop(['ds','day'],axis=1,inplace=True)\n",
    "    df=df.groupby(group_column+[\"year\",\"month\",\"week\",\"start_day\"]).sum().reset_index()\n",
    "    df[\"ds\"]=df[\"start_day\"].astype(str)+\"-\"+df[\"month\"].astype(str)+\"-\"+df[\"year\"].astype(str)\n",
    "    df[\"ds\"]= pd.to_datetime(df[\"ds\"], format='%d-%m-%Y', errors='coerce')\n",
    "    df=df[[\"ds\",\"CONSUMO\"]+group_column]\n",
    "    return df\n"
   ]
  },
  {
   "cell_type": "code",
   "execution_count": 81,
   "metadata": {},
   "outputs": [],
   "source": [
    "def concatenate_Data(root_path,info_data,dfMunAABData,df_poblacion=None):\n",
    "    df=pd.DataFrame([])\n",
    "    with os.scandir(root_path) as directory:\n",
    "        for file in directory:\n",
    "            ###\n",
    "            full_path=root_path+file.name\n",
    "            split_file=file.name.split(\"_\")\n",
    "            extension=split_file[-1].split(\".\")\n",
    "            if len(extension) > 2:\n",
    "                nom_mun=''\n",
    "                for i in range(len(extension)-1):\n",
    "                    ext+=extension[i]\n",
    "            else:\n",
    "                ext=extension[0]\n",
    "\n",
    "            if info_data==\"Tipo_Consumo\":\n",
    "                #df_consumo=pd.read_csv('C:/Users/usuario/Documents/ABDataChallenge/ABData/TipoConsumo/Uso_Domestico/GAVA.csv')\n",
    "                df_Mun=read_csvfile(full_path,'','',0,0,\",\")\n",
    "                df_Mun=trnf_dataConsumo(df_Mun,[\"ID_CONTADOR\"],True)               \n",
    "                df_Mun[\"Nom_Mun\"]=ext\n",
    "                \n",
    "            elif info_data==\"AE_Consumo\":\n",
    "                df_Mun=read_csvfile(full_path,'','',0,0,\",\")\n",
    "                df_Mun=df_Mun.rename(columns={\"CONSUM\": \"CONSUMO\"})\n",
    "                df_Mun=trnf_dataConsumo(df_Mun,[\"EPIGRAF\",\"DESCP EPIGRAF\",\"ID_CLIENTE\"],False) \n",
    "                df_Mun[\"Nom_Mun\"]=ext\n",
    "            \n",
    "            elif info_data==\"ConsumoTerritorial\":\n",
    "                df_Mun=read_csvfile(full_path,'','',0,0,\",\")\n",
    "                df_Mun=df_Mun.rename(columns={\"CONSUM\": \"CONSUMO\"})\n",
    "                df_Mun=trnf_dataConsumo(df_Mun,[\"ZONA\"],False)\n",
    "                \n",
    "            elif info_data==\"Renta\":\n",
    "                df_Mun=read_xlxs(full_path,'','',6,9)\n",
    "                df_Mun=trnf_renta(df_Mun)\n",
    "                df_Mun[\"Renta neta media por hogar\"]=df_Mun[\"Renta neta media por hogar\"].astype(np.float64)\n",
    "                df_Mun=df_Mun[df_Mun.cod_mun.isin(dfMunABData.cod_mun.values)].reset_index(drop=True)\n",
    "                df_Mun[\"year\"]=ext\n",
    "                \n",
    "            elif info_data==\"PrecioAgua\":\n",
    "                df_Mun=read_xlxs(full_path,'','',11,0)\n",
    "                df_Mun=df_Mun[[\"Idescat\",\"TOTAL\\n€/m3\"]]\n",
    "                df_Mun=df_Mun.rename(columns={\"Idescat\": \"cod_mun\",\"TOTAL\\n€/m3\":\"precio_agua\"})\n",
    "                df_Mun[\"cod_mun\"]=df_Mun[\"cod_mun\"].apply(lambda x: '{0:0>6}'.format(x))\n",
    "                df_Mun[\"cod_mun\"]=df_Mun[\"cod_mun\"].str[:5]\n",
    "                df_Mun=df_Mun[df_Mun.cod_mun.isin(dfMunABData.cod_mun.values)]\n",
    "                df_Mun[\"year\"]=ext\n",
    "                \n",
    "            else:\n",
    "                df_Mun=read_xlxs(full_path,'','',6,6)\n",
    "                df_Mun=trnf_transformacion(df_Mun)\n",
    "                df_Mun=df_Mun[df_Mun.cod_mun.isin(dfMunABData.cod_mun.values)]\n",
    "                df_Mun[\"year\"]=ext\n",
    "                \n",
    "            if df.empty:\n",
    "                df=df_Mun\n",
    "            else:\n",
    "                df=pd.concat([df, df_Mun], ignore_index=True)  \n",
    "            \n",
    "    return df"
   ]
  },
  {
   "cell_type": "code",
   "execution_count": 73,
   "metadata": {},
   "outputs": [],
   "source": [
    "def getting_data(root_path,info_data,dfMunABData,folders_inside=False):\n",
    "    if folders_inside:\n",
    "        df=pd.DataFrame([])\n",
    "        with os.scandir(root_path) as directory:\n",
    "            for folder in directory:\n",
    "                parent_path=root_path+folder.name+\"/\"\n",
    "                df_folder=concatenate_Data(parent_path,info_data)\n",
    "                if df.empty:\n",
    "                    df=df_folder\n",
    "                else:\n",
    "                    df=pd.concat([df,df_folder])\n",
    "                    \n",
    "        return df    \n",
    "                \n",
    "    else:\n",
    "        return concatenate_Data(root_path,info_data,dfMunABData)\n",
    "    "
   ]
  },
  {
   "cell_type": "markdown",
   "metadata": {},
   "source": [
    "### CONSUMO DOMESTICO (hecho)"
   ]
  },
  {
   "cell_type": "code",
   "execution_count": null,
   "metadata": {},
   "outputs": [],
   "source": [
    "### Domestico\n",
    "df_TCD=getting_data(\"C:/Users/usuario/Documents/ABDataChallenge/ABData/TipoConsumo/Uso_Domestico/\",\"Tipo_Consumo\",\"\",False)"
   ]
  },
  {
   "cell_type": "markdown",
   "metadata": {},
   "source": [
    "### CONSUMO Comercial (hecho)"
   ]
  },
  {
   "cell_type": "code",
   "execution_count": null,
   "metadata": {},
   "outputs": [],
   "source": [
    "### Comercial\n",
    "df_TCC=getting_data(\"C:/Users/usuario/Documents/ABDataChallenge/ABData/TipoConsumo/Consumo_COMERCIAL/\",\"Tipo_Consumo\",\"\",False)\n",
    "df_TCC.to_csv(\"C:/Users/usuario/Documents/ABDataChallenge/AiguesBarcelona/data/ConsumoComercial.csv\")"
   ]
  },
  {
   "cell_type": "markdown",
   "metadata": {},
   "source": [
    "### CONSUMO Industrial (hecho)"
   ]
  },
  {
   "cell_type": "code",
   "execution_count": 57,
   "metadata": {},
   "outputs": [
    {
     "data": {
      "image/png": "[encoded data removed]",
      "text/plain": [
       "<Figure size 432x288 with 1 Axes>"
      ]
     },
     "metadata": {
      "needs_background": "light"
     },
     "output_type": "display_data"
    }
   ],
   "source": [
    "df_TCI=getting_data(\"C:/Users/usuario/Documents/ABDataChallenge/ABData/TipoConsumo/Consumo_INDUSTRIAL/\",\"Tipo_Consumo\",\"\",False)\n",
    "df_TCI.to_csv(\"C:/Users/usuario/Documents/ABDataChallenge/AiguesBarcelona/data/ConsumoIndustrial.csv\")"
   ]
  },
  {
   "cell_type": "markdown",
   "metadata": {},
   "source": [
    "### ActividadEconomica (Hay que ejecutar)"
   ]
  },
  {
   "cell_type": "code",
   "execution_count": 84,
   "metadata": {},
   "outputs": [
    {
     "name": "stderr",
     "output_type": "stream",
     "text": [
      "<ipython-input-71-74dae01244ee>:7: SettingWithCopyWarning: \n",
      "A value is trying to be set on a copy of a slice from a DataFrame.\n",
      "Try using .loc[row_indexer,col_indexer] = value instead\n",
      "\n",
      "See the caveats in the documentation: https://pandas.pydata.org/pandas-docs/stable/user_guide/indexing.html#returning-a-view-versus-a-copy\n",
      "  df[\"ds\"]=pd.to_datetime(df.FECHA, errors='coerce')\n",
      "<ipython-input-71-74dae01244ee>:7: SettingWithCopyWarning: \n",
      "A value is trying to be set on a copy of a slice from a DataFrame.\n",
      "Try using .loc[row_indexer,col_indexer] = value instead\n",
      "\n",
      "See the caveats in the documentation: https://pandas.pydata.org/pandas-docs/stable/user_guide/indexing.html#returning-a-view-versus-a-copy\n",
      "  df[\"ds\"]=pd.to_datetime(df.FECHA, errors='coerce')\n",
      "<ipython-input-71-74dae01244ee>:7: SettingWithCopyWarning: \n",
      "A value is trying to be set on a copy of a slice from a DataFrame.\n",
      "Try using .loc[row_indexer,col_indexer] = value instead\n",
      "\n",
      "See the caveats in the documentation: https://pandas.pydata.org/pandas-docs/stable/user_guide/indexing.html#returning-a-view-versus-a-copy\n",
      "  df[\"ds\"]=pd.to_datetime(df.FECHA, errors='coerce')\n",
      "<ipython-input-71-74dae01244ee>:7: SettingWithCopyWarning: \n",
      "A value is trying to be set on a copy of a slice from a DataFrame.\n",
      "Try using .loc[row_indexer,col_indexer] = value instead\n",
      "\n",
      "See the caveats in the documentation: https://pandas.pydata.org/pandas-docs/stable/user_guide/indexing.html#returning-a-view-versus-a-copy\n",
      "  df[\"ds\"]=pd.to_datetime(df.FECHA, errors='coerce')\n",
      "<ipython-input-71-74dae01244ee>:7: SettingWithCopyWarning: \n",
      "A value is trying to be set on a copy of a slice from a DataFrame.\n",
      "Try using .loc[row_indexer,col_indexer] = value instead\n",
      "\n",
      "See the caveats in the documentation: https://pandas.pydata.org/pandas-docs/stable/user_guide/indexing.html#returning-a-view-versus-a-copy\n",
      "  df[\"ds\"]=pd.to_datetime(df.FECHA, errors='coerce')\n",
      "<ipython-input-71-74dae01244ee>:7: SettingWithCopyWarning: \n",
      "A value is trying to be set on a copy of a slice from a DataFrame.\n",
      "Try using .loc[row_indexer,col_indexer] = value instead\n",
      "\n",
      "See the caveats in the documentation: https://pandas.pydata.org/pandas-docs/stable/user_guide/indexing.html#returning-a-view-versus-a-copy\n",
      "  df[\"ds\"]=pd.to_datetime(df.FECHA, errors='coerce')\n",
      "<ipython-input-71-74dae01244ee>:7: SettingWithCopyWarning: \n",
      "A value is trying to be set on a copy of a slice from a DataFrame.\n",
      "Try using .loc[row_indexer,col_indexer] = value instead\n",
      "\n",
      "See the caveats in the documentation: https://pandas.pydata.org/pandas-docs/stable/user_guide/indexing.html#returning-a-view-versus-a-copy\n",
      "  df[\"ds\"]=pd.to_datetime(df.FECHA, errors='coerce')\n",
      "<ipython-input-71-74dae01244ee>:7: SettingWithCopyWarning: \n",
      "A value is trying to be set on a copy of a slice from a DataFrame.\n",
      "Try using .loc[row_indexer,col_indexer] = value instead\n",
      "\n",
      "See the caveats in the documentation: https://pandas.pydata.org/pandas-docs/stable/user_guide/indexing.html#returning-a-view-versus-a-copy\n",
      "  df[\"ds\"]=pd.to_datetime(df.FECHA, errors='coerce')\n",
      "<ipython-input-71-74dae01244ee>:7: SettingWithCopyWarning: \n",
      "A value is trying to be set on a copy of a slice from a DataFrame.\n",
      "Try using .loc[row_indexer,col_indexer] = value instead\n",
      "\n",
      "See the caveats in the documentation: https://pandas.pydata.org/pandas-docs/stable/user_guide/indexing.html#returning-a-view-versus-a-copy\n",
      "  df[\"ds\"]=pd.to_datetime(df.FECHA, errors='coerce')\n",
      "<ipython-input-71-74dae01244ee>:7: SettingWithCopyWarning: \n",
      "A value is trying to be set on a copy of a slice from a DataFrame.\n",
      "Try using .loc[row_indexer,col_indexer] = value instead\n",
      "\n",
      "See the caveats in the documentation: https://pandas.pydata.org/pandas-docs/stable/user_guide/indexing.html#returning-a-view-versus-a-copy\n",
      "  df[\"ds\"]=pd.to_datetime(df.FECHA, errors='coerce')\n",
      "<ipython-input-71-74dae01244ee>:7: SettingWithCopyWarning: \n",
      "A value is trying to be set on a copy of a slice from a DataFrame.\n",
      "Try using .loc[row_indexer,col_indexer] = value instead\n",
      "\n",
      "See the caveats in the documentation: https://pandas.pydata.org/pandas-docs/stable/user_guide/indexing.html#returning-a-view-versus-a-copy\n",
      "  df[\"ds\"]=pd.to_datetime(df.FECHA, errors='coerce')\n",
      "<ipython-input-71-74dae01244ee>:7: SettingWithCopyWarning: \n",
      "A value is trying to be set on a copy of a slice from a DataFrame.\n",
      "Try using .loc[row_indexer,col_indexer] = value instead\n",
      "\n",
      "See the caveats in the documentation: https://pandas.pydata.org/pandas-docs/stable/user_guide/indexing.html#returning-a-view-versus-a-copy\n",
      "  df[\"ds\"]=pd.to_datetime(df.FECHA, errors='coerce')\n",
      "<ipython-input-71-74dae01244ee>:7: SettingWithCopyWarning: \n",
      "A value is trying to be set on a copy of a slice from a DataFrame.\n",
      "Try using .loc[row_indexer,col_indexer] = value instead\n",
      "\n",
      "See the caveats in the documentation: https://pandas.pydata.org/pandas-docs/stable/user_guide/indexing.html#returning-a-view-versus-a-copy\n",
      "  df[\"ds\"]=pd.to_datetime(df.FECHA, errors='coerce')\n",
      "<ipython-input-71-74dae01244ee>:7: SettingWithCopyWarning: \n",
      "A value is trying to be set on a copy of a slice from a DataFrame.\n",
      "Try using .loc[row_indexer,col_indexer] = value instead\n",
      "\n",
      "See the caveats in the documentation: https://pandas.pydata.org/pandas-docs/stable/user_guide/indexing.html#returning-a-view-versus-a-copy\n",
      "  df[\"ds\"]=pd.to_datetime(df.FECHA, errors='coerce')\n",
      "<ipython-input-71-74dae01244ee>:7: SettingWithCopyWarning: \n",
      "A value is trying to be set on a copy of a slice from a DataFrame.\n",
      "Try using .loc[row_indexer,col_indexer] = value instead\n",
      "\n",
      "See the caveats in the documentation: https://pandas.pydata.org/pandas-docs/stable/user_guide/indexing.html#returning-a-view-versus-a-copy\n",
      "  df[\"ds\"]=pd.to_datetime(df.FECHA, errors='coerce')\n",
      "<ipython-input-71-74dae01244ee>:7: SettingWithCopyWarning: \n",
      "A value is trying to be set on a copy of a slice from a DataFrame.\n",
      "Try using .loc[row_indexer,col_indexer] = value instead\n",
      "\n",
      "See the caveats in the documentation: https://pandas.pydata.org/pandas-docs/stable/user_guide/indexing.html#returning-a-view-versus-a-copy\n",
      "  df[\"ds\"]=pd.to_datetime(df.FECHA, errors='coerce')\n"
     ]
    },
    {
     "data": {
      "image/png": "[encoded data removed]",
      "text/plain": [
       "<Figure size 432x288 with 1 Axes>"
      ]
     },
     "metadata": {
      "needs_background": "light"
     },
     "output_type": "display_data"
    }
   ],
   "source": [
    "df_AE=getting_data(\"C:/Users/usuario/Documents/ABDataChallenge/ABData/Actividad_Economica/\",\"AE_Consumo\",\"\",False)\n",
    "df_AE.to_csv(\"C:/Users/usuario/Documents/ABDataChallenge/AiguesBarcelona/data/Consumo_AE.csv\")"
   ]
  },
  {
   "cell_type": "code",
   "execution_count": 77,
   "metadata": {},
   "outputs": [
    {
     "data": {
      "text/html": [
       "<div>\n",
       "<style scoped>\n",
       "    .dataframe tbody tr th:only-of-type {\n",
       "        vertical-align: middle;\n",
       "    }\n",
       "\n",
       "    .dataframe tbody tr th {\n",
       "        vertical-align: top;\n",
       "    }\n",
       "\n",
       "    .dataframe thead th {\n",
       "        text-align: right;\n",
       "    }\n",
       "</style>\n",
       "<table border=\"1\" class=\"dataframe\">\n",
       "  <thead>\n",
       "    <tr style=\"text-align: right;\">\n",
       "      <th></th>\n",
       "      <th>ds</th>\n",
       "      <th>CONSUMO</th>\n",
       "      <th>EPIGRAF</th>\n",
       "      <th>DESCP EPIGRAF</th>\n",
       "      <th>ID_CLIENTE</th>\n",
       "      <th>Nom_Mun</th>\n",
       "    </tr>\n",
       "  </thead>\n",
       "  <tbody>\n",
       "    <tr>\n",
       "      <th>0</th>\n",
       "      <td>2021-05-24</td>\n",
       "      <td>36</td>\n",
       "      <td>A039</td>\n",
       "      <td>Altres activitats relacionades amb la música</td>\n",
       "      <td>285</td>\n",
       "      <td>BADALONA</td>\n",
       "    </tr>\n",
       "    <tr>\n",
       "      <th>1</th>\n",
       "      <td>2021-05-31</td>\n",
       "      <td>26</td>\n",
       "      <td>A039</td>\n",
       "      <td>Altres activitats relacionades amb la música</td>\n",
       "      <td>285</td>\n",
       "      <td>BADALONA</td>\n",
       "    </tr>\n",
       "    <tr>\n",
       "      <th>2</th>\n",
       "      <td>2021-06-01</td>\n",
       "      <td>251</td>\n",
       "      <td>A039</td>\n",
       "      <td>Altres activitats relacionades amb la música</td>\n",
       "      <td>285</td>\n",
       "      <td>BADALONA</td>\n",
       "    </tr>\n",
       "    <tr>\n",
       "      <th>3</th>\n",
       "      <td>2021-06-07</td>\n",
       "      <td>154</td>\n",
       "      <td>A039</td>\n",
       "      <td>Altres activitats relacionades amb la música</td>\n",
       "      <td>285</td>\n",
       "      <td>BADALONA</td>\n",
       "    </tr>\n",
       "    <tr>\n",
       "      <th>4</th>\n",
       "      <td>2021-06-14</td>\n",
       "      <td>200</td>\n",
       "      <td>A039</td>\n",
       "      <td>Altres activitats relacionades amb la música</td>\n",
       "      <td>285</td>\n",
       "      <td>BADALONA</td>\n",
       "    </tr>\n",
       "    <tr>\n",
       "      <th>...</th>\n",
       "      <td>...</td>\n",
       "      <td>...</td>\n",
       "      <td>...</td>\n",
       "      <td>...</td>\n",
       "      <td>...</td>\n",
       "      <td>...</td>\n",
       "    </tr>\n",
       "    <tr>\n",
       "      <th>630833</th>\n",
       "      <td>2021-11-22</td>\n",
       "      <td>215</td>\n",
       "      <td>P887</td>\n",
       "      <td>Maquilladors i esteticistes</td>\n",
       "      <td>131</td>\n",
       "      <td>VILADECANS</td>\n",
       "    </tr>\n",
       "    <tr>\n",
       "      <th>630834</th>\n",
       "      <td>2021-11-29</td>\n",
       "      <td>92</td>\n",
       "      <td>P887</td>\n",
       "      <td>Maquilladors i esteticistes</td>\n",
       "      <td>131</td>\n",
       "      <td>VILADECANS</td>\n",
       "    </tr>\n",
       "    <tr>\n",
       "      <th>630835</th>\n",
       "      <td>2021-12-01</td>\n",
       "      <td>316</td>\n",
       "      <td>P887</td>\n",
       "      <td>Maquilladors i esteticistes</td>\n",
       "      <td>131</td>\n",
       "      <td>VILADECANS</td>\n",
       "    </tr>\n",
       "    <tr>\n",
       "      <th>630836</th>\n",
       "      <td>2021-12-06</td>\n",
       "      <td>221</td>\n",
       "      <td>P887</td>\n",
       "      <td>Maquilladors i esteticistes</td>\n",
       "      <td>131</td>\n",
       "      <td>VILADECANS</td>\n",
       "    </tr>\n",
       "    <tr>\n",
       "      <th>630837</th>\n",
       "      <td>2021-12-13</td>\n",
       "      <td>41</td>\n",
       "      <td>P887</td>\n",
       "      <td>Maquilladors i esteticistes</td>\n",
       "      <td>131</td>\n",
       "      <td>VILADECANS</td>\n",
       "    </tr>\n",
       "  </tbody>\n",
       "</table>\n",
       "<p>630838 rows × 6 columns</p>\n",
       "</div>"
      ],
      "text/plain": [
       "               ds  CONSUMO EPIGRAF  \\\n",
       "0      2021-05-24       36    A039   \n",
       "1      2021-05-31       26    A039   \n",
       "2      2021-06-01      251    A039   \n",
       "3      2021-06-07      154    A039   \n",
       "4      2021-06-14      200    A039   \n",
       "...           ...      ...     ...   \n",
       "630833 2021-11-22      215    P887   \n",
       "630834 2021-11-29       92    P887   \n",
       "630835 2021-12-01      316    P887   \n",
       "630836 2021-12-06      221    P887   \n",
       "630837 2021-12-13       41    P887   \n",
       "\n",
       "                                       DESCP EPIGRAF  ID_CLIENTE     Nom_Mun  \n",
       "0       Altres activitats relacionades amb la música         285    BADALONA  \n",
       "1       Altres activitats relacionades amb la música         285    BADALONA  \n",
       "2       Altres activitats relacionades amb la música         285    BADALONA  \n",
       "3       Altres activitats relacionades amb la música         285    BADALONA  \n",
       "4       Altres activitats relacionades amb la música         285    BADALONA  \n",
       "...                                              ...         ...         ...  \n",
       "630833                   Maquilladors i esteticistes         131  VILADECANS  \n",
       "630834                   Maquilladors i esteticistes         131  VILADECANS  \n",
       "630835                   Maquilladors i esteticistes         131  VILADECANS  \n",
       "630836                   Maquilladors i esteticistes         131  VILADECANS  \n",
       "630837                   Maquilladors i esteticistes         131  VILADECANS  \n",
       "\n",
       "[630838 rows x 6 columns]"
      ]
     },
     "execution_count": 77,
     "metadata": {},
     "output_type": "execute_result"
    }
   ],
   "source": [
    "df_AE"
   ]
  },
  {
   "cell_type": "code",
   "execution_count": 83,
   "metadata": {},
   "outputs": [
    {
     "data": {
      "text/plain": [
       "4323168928"
      ]
     },
     "execution_count": 83,
     "metadata": {},
     "output_type": "execute_result"
    }
   ],
   "source": [
    "df_AE[df_AE.Nom_Mun==\"BARCELONA\"].CONSUMO.sum()"
   ]
  },
  {
   "cell_type": "code",
   "execution_count": 79,
   "metadata": {},
   "outputs": [],
   "source": [
    "b=pd.read_csv(\"C:/Users/usuario/Documents/ABDataChallenge/ABData/Actividad_Economica/ConsumPerActivitat_BARCELONA.csv\")"
   ]
  },
  {
   "cell_type": "code",
   "execution_count": 80,
   "metadata": {},
   "outputs": [
    {
     "data": {
      "text/plain": [
       "4323168928"
      ]
     },
     "execution_count": 80,
     "metadata": {},
     "output_type": "execute_result"
    }
   ],
   "source": [
    "b[b.CONSUMO > 0].CONSUMO.sum()"
   ]
  },
  {
   "cell_type": "markdown",
   "metadata": {},
   "source": [
    "### PorTerritorio (Hay que ejecutar)"
   ]
  },
  {
   "cell_type": "code",
   "execution_count": 61,
   "metadata": {},
   "outputs": [
    {
     "name": "stdout",
     "output_type": "stream",
     "text": [
      "            FECHA                 ZONA  CONSUMO\n",
      "0      2019-01-01             SANT BOI    12036\n",
      "1      2019-01-01  TORRELLES LLOBREGAT      332\n",
      "2      2019-01-01             BADALONA    24885\n",
      "3      2019-01-01                 GAVA      385\n",
      "4      2019-01-01             CORNELLA    17933\n",
      "...           ...                  ...      ...\n",
      "29171  2021-12-14                TIANA     7430\n",
      "29172  2021-12-14               BEGUES      397\n",
      "29173  2021-12-14  STA.COLOMA GRAMENET      627\n",
      "29174  2021-12-14  L'HOSPITALET LLOBR.      584\n",
      "29175  2021-12-14           VILADECANS      483\n",
      "\n",
      "[29176 rows x 3 columns]\n"
     ]
    },
    {
     "name": "stderr",
     "output_type": "stream",
     "text": [
      "<ipython-input-44-93d3dc00ab73>:7: SettingWithCopyWarning: \n",
      "A value is trying to be set on a copy of a slice from a DataFrame.\n",
      "Try using .loc[row_indexer,col_indexer] = value instead\n",
      "\n",
      "See the caveats in the documentation: https://pandas.pydata.org/pandas-docs/stable/user_guide/indexing.html#returning-a-view-versus-a-copy\n",
      "  df[\"ds\"]=pd.to_datetime(df.FECHA, errors='coerce')\n"
     ]
    },
    {
     "data": {
      "image/png": "[encoded data removed]",
      "text/plain": [
       "<Figure size 432x288 with 1 Axes>"
      ]
     },
     "metadata": {
      "needs_background": "light"
     },
     "output_type": "display_data"
    }
   ],
   "source": [
    "###ConsumoPorTerritorio(Municipio)\n",
    "df_CPTM=getting_data(\"C:/Users/usuario/Documents/ABDataChallenge/ABData/ConsumoPorTerritorio/\",\"ConsumoTerritorial\",\"\",False)\n",
    "df_CPTM.to_csv(\"C:/Users/usuario/Documents/ABDataChallenge/AiguesBarcelona/data/ConsumoTerritorial.csv\")"
   ]
  },
  {
   "cell_type": "code",
   "execution_count": 51,
   "metadata": {},
   "outputs": [
    {
     "data": {
      "text/html": [
       "<div>\n",
       "<style scoped>\n",
       "    .dataframe tbody tr th:only-of-type {\n",
       "        vertical-align: middle;\n",
       "    }\n",
       "\n",
       "    .dataframe tbody tr th {\n",
       "        vertical-align: top;\n",
       "    }\n",
       "\n",
       "    .dataframe thead th {\n",
       "        text-align: right;\n",
       "    }\n",
       "</style>\n",
       "<table border=\"1\" class=\"dataframe\">\n",
       "  <thead>\n",
       "    <tr style=\"text-align: right;\">\n",
       "      <th></th>\n",
       "      <th>ds</th>\n",
       "      <th>ZONA</th>\n",
       "      <th>CONSUMO</th>\n",
       "    </tr>\n",
       "  </thead>\n",
       "  <tbody>\n",
       "    <tr>\n",
       "      <th>268</th>\n",
       "      <td>2019-01-01</td>\n",
       "      <td>BARCELONA</td>\n",
       "      <td>10603</td>\n",
       "    </tr>\n",
       "    <tr>\n",
       "      <th>269</th>\n",
       "      <td>2019-01-07</td>\n",
       "      <td>BARCELONA</td>\n",
       "      <td>12081</td>\n",
       "    </tr>\n",
       "    <tr>\n",
       "      <th>270</th>\n",
       "      <td>2019-01-14</td>\n",
       "      <td>BARCELONA</td>\n",
       "      <td>11796</td>\n",
       "    </tr>\n",
       "    <tr>\n",
       "      <th>271</th>\n",
       "      <td>2019-01-21</td>\n",
       "      <td>BARCELONA</td>\n",
       "      <td>11348</td>\n",
       "    </tr>\n",
       "    <tr>\n",
       "      <th>272</th>\n",
       "      <td>2019-01-28</td>\n",
       "      <td>BARCELONA</td>\n",
       "      <td>6876</td>\n",
       "    </tr>\n",
       "    <tr>\n",
       "      <th>273</th>\n",
       "      <td>2019-02-01</td>\n",
       "      <td>BARCELONA</td>\n",
       "      <td>5063</td>\n",
       "    </tr>\n",
       "    <tr>\n",
       "      <th>274</th>\n",
       "      <td>2019-02-04</td>\n",
       "      <td>BARCELONA</td>\n",
       "      <td>11898</td>\n",
       "    </tr>\n",
       "    <tr>\n",
       "      <th>275</th>\n",
       "      <td>2019-02-11</td>\n",
       "      <td>BARCELONA</td>\n",
       "      <td>11964</td>\n",
       "    </tr>\n",
       "    <tr>\n",
       "      <th>276</th>\n",
       "      <td>2019-02-18</td>\n",
       "      <td>BARCELONA</td>\n",
       "      <td>11668</td>\n",
       "    </tr>\n",
       "    <tr>\n",
       "      <th>277</th>\n",
       "      <td>2019-02-25</td>\n",
       "      <td>BARCELONA</td>\n",
       "      <td>6999</td>\n",
       "    </tr>\n",
       "    <tr>\n",
       "      <th>278</th>\n",
       "      <td>2019-03-01</td>\n",
       "      <td>BARCELONA</td>\n",
       "      <td>5100</td>\n",
       "    </tr>\n",
       "    <tr>\n",
       "      <th>279</th>\n",
       "      <td>2019-03-04</td>\n",
       "      <td>BARCELONA</td>\n",
       "      <td>11983</td>\n",
       "    </tr>\n",
       "    <tr>\n",
       "      <th>280</th>\n",
       "      <td>2019-03-11</td>\n",
       "      <td>BARCELONA</td>\n",
       "      <td>11955</td>\n",
       "    </tr>\n",
       "    <tr>\n",
       "      <th>281</th>\n",
       "      <td>2019-03-18</td>\n",
       "      <td>BARCELONA</td>\n",
       "      <td>12020</td>\n",
       "    </tr>\n",
       "    <tr>\n",
       "      <th>282</th>\n",
       "      <td>2019-03-25</td>\n",
       "      <td>BARCELONA</td>\n",
       "      <td>12363</td>\n",
       "    </tr>\n",
       "    <tr>\n",
       "      <th>283</th>\n",
       "      <td>2019-04-01</td>\n",
       "      <td>BARCELONA</td>\n",
       "      <td>11968</td>\n",
       "    </tr>\n",
       "    <tr>\n",
       "      <th>284</th>\n",
       "      <td>2019-04-08</td>\n",
       "      <td>BARCELONA</td>\n",
       "      <td>12087</td>\n",
       "    </tr>\n",
       "    <tr>\n",
       "      <th>285</th>\n",
       "      <td>2019-04-15</td>\n",
       "      <td>BARCELONA</td>\n",
       "      <td>12247</td>\n",
       "    </tr>\n",
       "    <tr>\n",
       "      <th>286</th>\n",
       "      <td>2019-04-22</td>\n",
       "      <td>BARCELONA</td>\n",
       "      <td>12107</td>\n",
       "    </tr>\n",
       "    <tr>\n",
       "      <th>287</th>\n",
       "      <td>2019-04-29</td>\n",
       "      <td>BARCELONA</td>\n",
       "      <td>3570</td>\n",
       "    </tr>\n",
       "  </tbody>\n",
       "</table>\n",
       "</div>"
      ],
      "text/plain": [
       "            ds       ZONA  CONSUMO\n",
       "268 2019-01-01  BARCELONA    10603\n",
       "269 2019-01-07  BARCELONA    12081\n",
       "270 2019-01-14  BARCELONA    11796\n",
       "271 2019-01-21  BARCELONA    11348\n",
       "272 2019-01-28  BARCELONA     6876\n",
       "273 2019-02-01  BARCELONA     5063\n",
       "274 2019-02-04  BARCELONA    11898\n",
       "275 2019-02-11  BARCELONA    11964\n",
       "276 2019-02-18  BARCELONA    11668\n",
       "277 2019-02-25  BARCELONA     6999\n",
       "278 2019-03-01  BARCELONA     5100\n",
       "279 2019-03-04  BARCELONA    11983\n",
       "280 2019-03-11  BARCELONA    11955\n",
       "281 2019-03-18  BARCELONA    12020\n",
       "282 2019-03-25  BARCELONA    12363\n",
       "283 2019-04-01  BARCELONA    11968\n",
       "284 2019-04-08  BARCELONA    12087\n",
       "285 2019-04-15  BARCELONA    12247\n",
       "286 2019-04-22  BARCELONA    12107\n",
       "287 2019-04-29  BARCELONA     3570"
      ]
     },
     "execution_count": 51,
     "metadata": {},
     "output_type": "execute_result"
    }
   ],
   "source": [
    "df_CPTM[df_CPTM.ZONA==\"BARCELONA\"].sort_values([\"ZONA\",\"ds\"]).head(20)"
   ]
  },
  {
   "cell_type": "code",
   "execution_count": 41,
   "metadata": {},
   "outputs": [
    {
     "ename": "NameError",
     "evalue": "name 'outliers' is not defined",
     "output_type": "error",
     "traceback": [
      "\u001b[1;31m---------------------------------------------------------------------------\u001b[0m",
      "\u001b[1;31mNameError\u001b[0m                                 Traceback (most recent call last)",
      "\u001b[1;32m<ipython-input-41-b9402feeb0d5>\u001b[0m in \u001b[0;36m<module>\u001b[1;34m\u001b[0m\n\u001b[1;32m----> 1\u001b[1;33m \u001b[0moutliers\u001b[0m\u001b[1;33m\u001b[0m\u001b[1;33m\u001b[0m\u001b[0m\n\u001b[0m",
      "\u001b[1;31mNameError\u001b[0m: name 'outliers' is not defined"
     ]
    }
   ],
   "source": [
    "outliers"
   ]
  },
  {
   "cell_type": "code",
   "execution_count": 63,
   "metadata": {},
   "outputs": [
    {
     "data": {
      "text/plain": [
       "2874364684"
      ]
     },
     "execution_count": 63,
     "metadata": {},
     "output_type": "execute_result"
    }
   ],
   "source": [
    "df_CPTM.CONSUMO.sum()"
   ]
  },
  {
   "cell_type": "code",
   "execution_count": 64,
   "metadata": {},
   "outputs": [
    {
     "data": {
      "text/plain": [
       "2874364684"
      ]
     },
     "execution_count": 64,
     "metadata": {},
     "output_type": "execute_result"
    }
   ],
   "source": [
    "a[a.CONSUM > 0].CONSUM.sum()"
   ]
  },
  {
   "cell_type": "code",
   "execution_count": 38,
   "metadata": {},
   "outputs": [],
   "source": [
    "a=pd.read_csv(\"C:/Users/usuario/Documents/ABDataChallenge/ABData/ConsumoPorTerritorio/ConsumPerZona-1.csv\")"
   ]
  },
  {
   "cell_type": "markdown",
   "metadata": {},
   "source": [
    "### Relacionar nombre y codigo (hecho)"
   ]
  },
  {
   "cell_type": "code",
   "execution_count": null,
   "metadata": {},
   "outputs": [],
   "source": [
    "###ObtenerRelacionNombresMunicipioCod\n",
    "dfMunABData=read_csvfile(path,[\"ABData\"],\"MunCodRel.csv\",0,0,\",\")\n",
    "dfMunABData[\"cod_mun\"]=dfMunABData['cod_mun'].apply(lambda x: '{0:0>5}'.format(x))\n",
    "dfMunABData.to_csv(\"C:/Users/usuario/Documents/ABDataChallenge/AiguesBarcelona/data/codRelMunFinal.csv\")"
   ]
  },
  {
   "cell_type": "markdown",
   "metadata": {},
   "source": [
    "### Población (HECHO)"
   ]
  },
  {
   "cell_type": "code",
   "execution_count": null,
   "metadata": {},
   "outputs": [],
   "source": [
    "df_poblacionHistorica=getting_data(\"C:/Users/usuario/Documents/ABDataChallenge/Poblacion/poblacion_historico/\",\"Poblacion\",dfMunABData,False)\n",
    "df_poblacionHistorica.to_csv(\"C:/Users/usuario/Documents/ABDataChallenge/AiguesBarcelona/data/poblacionHistorico_ABDataFinal.csv\")"
   ]
  },
  {
   "cell_type": "markdown",
   "metadata": {},
   "source": [
    "### PRECIO AGUA(Hecho)"
   ]
  },
  {
   "cell_type": "code",
   "execution_count": null,
   "metadata": {},
   "outputs": [],
   "source": [
    "df_precioAgua=getting_data(\"C:/Users/usuario/Documents/ABDataChallenge/PrecioAgua/\",\"PrecioAgua\",dfMunABData,False)\n",
    "df_precioAgua.to_csv(\"C:/Users/usuario/Documents/ABDataChallenge/AiguesBarcelona/data/precioHistorico_ABDataFinal.csv\")"
   ]
  },
  {
   "cell_type": "markdown",
   "metadata": {},
   "source": [
    "### Renta (Hecho)"
   ]
  },
  {
   "cell_type": "code",
   "execution_count": null,
   "metadata": {},
   "outputs": [],
   "source": [
    "df_rh=getting_data(\"C:/Users/usuario/Documents/ABDataChallenge/Renta/renta_historica/\",\"Renta\",dfMunABData,False)\n",
    "df_rh=df_rh[[\"Renta neta media por hogar\",\"cod_mun\",\"year\"]]\n",
    "df_rh[\"rank\"]=None\n",
    "df_rentaHistorica=pd.DataFrame()\n",
    "for y in df_rh.year.unique():\n",
    "    df_y=pd.merge(df_rh[df_rh.year==y],df_poblacionHistorica[(df_poblacionHistorica.year==y)&(df_poblacionHistorica.intervalo_edat!=\"juvenil\")].groupby([\"cod_mun\"])[\"value\"].sum(),on=\"cod_mun\")\n",
    "    df_y.loc[df_y.index.repeat(df_y.value)].reset_index(drop=True)\n",
    "    df_describe=df_y[\"Renta neta media por hogar\"].describe().reset_index()\n",
    "    df_y['c_rank'] = df_y.apply(lambda x: rank_renta(x[\"Renta neta media por hogar\"],df_describe), axis=1)\n",
    "    df_y['rank'] = df_y['c_rank'].groupby(df_y['cod_mun']).transform('max')\n",
    "    df_y=df_y[[\"cod_mun\",\"year\",\"Renta neta media por hogar\",\"rank\"]]\n",
    "    df_rentaHistorica=pd.concat([df_rentaHistorica,df_y])\n",
    "\n",
    "df_rentaHistorica.to_csv(\"C:/Users/usuario/Documents/ABDataChallenge/AiguesBarcelona/data/trentaHistorica_ABDataFinal.csv\")"
   ]
  },
  {
   "cell_type": "markdown",
   "metadata": {},
   "source": [
    "### DPFI (HECHO)"
   ]
  },
  {
   "cell_type": "code",
   "execution_count": null,
   "metadata": {},
   "outputs": [],
   "source": [
    "###DistribuciónFuenteDeIngresos(\"Hay que hacer pivot table\")\n",
    "rd_fuenteIngresos=read_csvfile(path,['Renta'],'DistribuciónFuenteIngresos.csv',0,0,';')\n",
    "trn_fuenteIngresos_mun=trnf_dpfi(rd_fuenteIngresos)\n",
    "trn_fuenteIngresos_munABData=trn_fuenteIngresos_mun[trn_fuenteIngresos_mun.cod_mun.isin(dfMunABData.cod_mun.values)]\n",
    "trn_fuenteIngresos_munABData_pivot = pd.pivot_table(trn_fuenteIngresos_munABData, values='Total_num', index=['cod_mun','nom_mun','Periodo'],\n",
    "                                     columns=['Distribución por fuente de ingresos'], aggfunc=np.sum).reset_index()\n",
    "trn_fuenteIngresosPrctg=prctg_distribucion(trn_fuenteIngresos_munABData_pivot)\n",
    "trn_fuenteIngresosPrctg.rename(columns={\"Periodo\": \"year\"},inplace=True)\n",
    "trn_fuenteIngresos_munABData.reset_index(drop=True).to_csv(\"C:/Users/usuario/Documents/ABDataChallenge/AiguesBarcelona/tdpfi_municipalABDataFinal.csv\")"
   ]
  },
  {
   "cell_type": "markdown",
   "metadata": {},
   "source": [
    "### Indicadores Demograficos (hecho)"
   ]
  },
  {
   "cell_type": "code",
   "execution_count": null,
   "metadata": {},
   "outputs": [],
   "source": [
    "### IndicadoresDemograficos\n",
    "rd_IndDmg=read_csvfile(path,['Poblacion'],'IndicadoresDemograficos.csv',0,0,\";\")\n",
    "df_trnf_indDmg=trnf_indDmg(rd_IndDmg)\n",
    "trnf_indDmg_munABData=df_trnf_indDmg[df_trnf_indDmg.cod_mun.isin(dfMunABData.cod_mun.values)]\n",
    "trnf_indDmg_munABData.rename(columns={\"Periodo\": \"year\"},inplace=True)\n",
    "trnf_indDmg_munABData.drop([\"Población\"],axis=1).to_csv(\"C:/Users/usuario/Documents/ABDataChallenge/AiguesBarcelona/tindDmg_ABDataFinal.csv\")"
   ]
  },
  {
   "cell_type": "markdown",
   "metadata": {},
   "source": [
    "### Indicadores GINI (hecho)"
   ]
  },
  {
   "cell_type": "code",
   "execution_count": null,
   "metadata": {},
   "outputs": [],
   "source": [
    "###Indicadores Gini\n",
    "rd_gini=read_csvfile(path,['Poblacion'],'IndicadoresGini.csv',0,0,\";\")\n",
    "trn_gini=trnf_indGini(rd_gini)\n",
    "trn_gini_munABData=trn_gini[trn_gini.cod_mun.isin(dfMunABData.cod_mun.values)]\n",
    "trn_gini_munABData.rename(columns={\"Periodo\": \"year\"},inplace=True)\n",
    "trn_gini_munABData.to_csv(\"C:/Users/usuario/Documents/ABDataChallenge/AiguesBarcelona/tgini_ABDataFinal.csv\")"
   ]
  },
  {
   "cell_type": "markdown",
   "metadata": {},
   "source": [
    "### Formación (no lo vamos a hacer)"
   ]
  },
  {
   "cell_type": "code",
   "execution_count": null,
   "metadata": {},
   "outputs": [],
   "source": [
    "###Formación\n",
    "rd_formacion=read_csv(path,['Poblacion'],'formacion.csv',8,0,\";\")\n",
    "rd_formacion=rd_formacion.shift(periods=1, axis=\"columns\")\n",
    "rd_formacion.drop([\"Codi\",\"Literal\"],axis=1,inplace=True)\n",
    "rd_formacion.reset_index(inplace=True)\n",
    "rd_formacion.rename(columns={\"index\": \"cod_mun\"},inplace=True)\n",
    "rd_formacion.dropna(inplace=True)\n",
    "rd_formacion[\"cod_mun\"]=rd_formacion[\"cod_mun\"].astype(int).astype(str)\n",
    "rd_formacion[\"cod_mun\"]=rd_formacion[\"cod_mun\"].apply(lambda x: '{0:0>6}'.format(x))\n",
    "rd_formacion[\"cod_mun\"]=rd_formacion[\"cod_mun\"].str[:5]\n",
    "trn_formacion=pd.melt(rd_formacion, id_vars=['cod_mun'], value_vars=np.delete(rd_formacion.columns.values,0),var_name='formacion', value_name='value_prtg')\n",
    "trn_formacion_munABData=trn_formacion[trn_formacion.cod_mun.isin(dfMunABData.cod_mun.values)]\n",
    "#trn_formacion_munABData.to_csv(\"C:/Users/usuario/Documents/Uni_Ivan/4tCarrera/ABDataChallenge/AiguesBarcelona/data/tformacion_ABData.csv\")"
   ]
  },
  {
   "cell_type": "markdown",
   "metadata": {},
   "source": [
    "### HISTORICO POBLACIÓN INFECTADA (ejecutar)"
   ]
  },
  {
   "cell_type": "code",
   "execution_count": null,
   "metadata": {},
   "outputs": [],
   "source": [
    "covid=read_csvfile(path,['Poblacion'],'covid_casos.csv',0,0,\",\")\n",
    "covid[\"ds\"]=pd.to_datetime(covid[\"TipusCasData\"], format='%d/%m/%Y', errors='coerce')\n",
    "covid.drop(['ComarcaCodi','TipusCasData','ComarcaDescripcio','MunicipiDescripcio','DistricteCodi','DistricteDescripcio','SexeCodi','SexeDescripcio','TipusCasDescripcio'], axis=1,inplace=True)\n",
    "covid[\"MunicipiCodi\"]=covid[\"MunicipiCodi\"].replace(np.nan,0)\n",
    "covid[\"MunicipiCodi\"]=covid[\"MunicipiCodi\"].astype(int).astype(str)\n",
    "covid=covid.rename(columns={\"MunicipiCodi\": \"cod_mun\"})\n",
    "covid[\"cod_mun\"]=covid[\"cod_mun\"].apply(lambda x: '{0:0>5}'.format(x))\n",
    "covid_munABData=covid[covid.cod_mun.isin(dfMunABData.cod_mun.values)]\n",
    "covid_mun=covid_munABData.groupby([\"cod_mun\",\"ds\"]).sum().reset_index()\n",
    "covid_mun=covid_mun.sort_values(\"ds\")\n",
    "covid_mun=pd.concat([matching_ds_data(df_TCD.ds.min(),covid_mun.ds.min(),dfMunABData.cod_mun.unique(),\"NumCasos\"),covid_mun])\n",
    "covid_mun[\"ds\"]=pd.to_datetime(covid_mun[\"ds\"])\n",
    "covid_mun['week'] = covid_mun[\"ds\"].apply(week_of_month)\n",
    "covid_mun[\"year\"]=covid_mun.ds.dt.year\n",
    "covid_mun[\"month\"]=covid_mun.ds.dt.month\n",
    "covid_mun[\"day\"]=covid_mun.ds.dt.day\n",
    "covid_mun[\"start_day\"]=covid_mun.groupby(['year','month','week'])['day'].transform('min')\n",
    "covid_mun.drop(['ds','day'],axis=1,inplace=True)\n",
    "covid_mun=covid_mun.groupby([\"cod_mun\",\"year\",\"month\",\"week\",\"start_day\"]).sum().reset_index()\n",
    "covid_mun[\"ds\"]=covid_mun[\"start_day\"].astype(str)+\"-\"+covid_mun[\"month\"].astype(str)+\"-\"+covid_mun[\"year\"].astype(str)\n",
    "covid_mun[\"ds\"]= pd.to_datetime(covid_mun[\"ds\"], format='%d-%m-%Y', errors='coerce')\n",
    "covid_mun=covid_mun[[\"ds\",\"cod_mun\",\"NumCasos\"]]\n",
    "covid_mun.to_csv(\"C:/Users/usuario/Documents/ABDataChallenge/AiguesBarcelona/numCasos_ABDataFinal.csv\")"
   ]
  },
  {
   "cell_type": "markdown",
   "metadata": {},
   "source": [
    "### HISTORICO POBLACIÓN VACUNADA PAUTA COMPLETA (ejecutar)"
   ]
  },
  {
   "cell_type": "code",
   "execution_count": null,
   "metadata": {},
   "outputs": [],
   "source": [
    "covid_vac=read_csvfile(path,['Poblacion'],'vacunacio.csv',0,0,\",\")\n",
    "covid_vac['ds'] = covid_vac.apply(lambda x: date_conversion(x['DATA'],'/'), axis=1)\n",
    "covid_vac.drop(['SEXE_CODI','SEXE','PROVINCIA_CODI','PROVINCIA','COMARCA_CODI','COMARCA','DATA','MUNICIPI','DISTRICTE_CODI','DISTRICTE','FABRICANT',\"NO_VACUNAT\"], axis=1,inplace=True)\n",
    "covid_vac[\"MUNICIPI_CODI\"]=covid_vac[\"MUNICIPI_CODI\"].replace(np.nan,0)\n",
    "covid_vac[\"MUNICIPI_CODI\"]=covid_vac[\"MUNICIPI_CODI\"].astype(int).astype(str)\n",
    "covid_vac=covid_vac.rename(columns={\"MUNICIPI_CODI\": \"cod_mun\",\"RECOMPTE\":\"value\"})\n",
    "covid_vac[\"cod_mun\"]=covid_vac[\"cod_mun\"].apply(lambda x: '{0:0>5}'.format(x))\n",
    "covid_vac_munABData=covid_vac[(covid_vac.cod_mun.isin(dfMunABData.cod_mun.values))&(covid_vac[\"DOSI\"]>1)]\n",
    "covid_vac_munABData.drop(['DOSI'],axis=1,inplace=True)\n",
    "covid_vac_mun=covid_vac_munABData.groupby([\"cod_mun\",\"ds\"]).sum().reset_index()\n",
    "covid_vac_mun=covid_vac_mun.sort_values(\"ds\")\n",
    "covid_vac_mun=pd.concat([matching_ds_data(df_TCD.ds.min(),covid_vac_mun.ds.min(),dfMunABData.cod_mun.unique(),\"value\"),covid_vac_mun])\n",
    "covid_vac_mun[\"ds\"]=pd.to_datetime(covid_vac_mun[\"ds\"])\n",
    "covid_vac_mun['week'] = covid_vac_mun[\"ds\"].apply(week_of_month)\n",
    "covid_vac_mun[\"year\"]=covid_vac_mun.ds.dt.year\n",
    "covid_vac_mun[\"month\"]=covid_vac_mun.ds.dt.month\n",
    "covid_vac_mun[\"day\"]=covid_vac_mun.ds.dt.day\n",
    "covid_vac_mun[\"start_day\"]=covid_vac_mun.groupby(['year','month','week'])['day'].transform('min')\n",
    "covid_vac_mun.drop(['ds','day'],axis=1,inplace=True)\n",
    "covid_vac_mun=covid_vac_mun.groupby([\"cod_mun\",\"year\",\"month\",\"week\",\"start_day\"]).sum().reset_index()\n",
    "covid_vac_mun[\"ds\"]=covid_vac_mun[\"start_day\"].astype(str)+\"-\"+covid_vac_mun[\"month\"].astype(str)+\"-\"+covid_vac_mun[\"year\"].astype(str)\n",
    "covid_vac_mun[\"ds\"]= pd.to_datetime(covid_vac_mun[\"ds\"], format='%d-%m-%Y', errors='coerce')\n",
    "covid_vac_mun=covid_vac_mun[[\"ds\",\"cod_mun\",\"value\"]]\n",
    "covid_vac_mun.to_csv(\"C:/Users/usuario/Documents/ABDataChallenge/AiguesBarcelona/numVacunados_ABDataFinal.csv\")"
   ]
  },
  {
   "cell_type": "markdown",
   "metadata": {},
   "source": [
    "## PRUEBAS"
   ]
  },
  {
   "cell_type": "code",
   "execution_count": null,
   "metadata": {},
   "outputs": [],
   "source": [
    "covid_mun.to_csv(\"C:/Users/usuario/Documents/Uni_Ivan/4tCarrera/ABDataChallenge/AiguesBarcelona/data/covid_ABData.csv\")"
   ]
  },
  {
   "cell_type": "code",
   "execution_count": null,
   "metadata": {},
   "outputs": [],
   "source": [
    "covid_mun.cod_mun.nunique()"
   ]
  },
  {
   "cell_type": "code",
   "execution_count": null,
   "metadata": {},
   "outputs": [],
   "source": [
    "##1.-Crear tabla solo con municipios(cod_municipio,nombre_municipio)\n",
    "##2.-Crear tabla de fechas(fecha,evento)\n",
    "data = [['SANT BOI','Sant Boi de Llobregat',\"08200\"],['TORRELLES LLOBREGAT',\"Torrelles de Llobregat\",\"08289\"],['BADALONA',\"Badalona\",\"08015\"],\n",
    "        ['GAVA',\"Gavà\",\"08089\"],['CORNELLA',\"Cornellà de Llobregat\",\"08073\"],['VILADECANS',\"Viladecans\",\"08301\"],['BEGUES',\"Begues\",\"08020\"],\n",
    "        [\"L'HOSPITALET LLOBR.\",\"Hospitalet de Llobregat, L'\",\"08101\"],['ESPLUGUES',\"Esplugues de Llobregat\",\"08077\"],\n",
    "        ['PALLEJA',\"Pallejà\",\"08157\"],['MONTGAT',\"Montgat\",\"08126\"],['SANT JOAN DESPI',\"Sant Joan Despí\",\"08217\"],\n",
    "        ['SANT CUGAT',\"Sant Cugat del Vallès\",\"08205\"],['CASTELLDEFELS',\"Castelldefels\",\"08056\"],['CERDANYOLA',\"Cerdanyola del Vallès\",\"08266\"],\n",
    "        ['STA.COLOMA GRAMENET',\"Santa Coloma de Gramenet\",\"08245\"],['SANT ADRIA',\"Sant Adrià de Besòs\",\"08194\"],['LA LLAGOSTA',\"Llagosta, La\",\"08105\"],\n",
    "        ['SANT CLIMENT LLOB.',\"Sant Climent de Llobregat\",\"08204\"],['SANT FELIU LL.',\"Sant Feliu de Llobregat\",\"08211\"],['SANT JUST DESVERN',\"Sant Just Desvern\",\"08221\"],\n",
    "        ['EL PAPIOL',\"Papiol, El\",\"08158\"],['BARCELONA',\"Barcelona\",\"08019\"],['LES BOTIGUES SITGES',\"Sitges\",\"08270\"],['STA.COLOMA CERVELLO',\"Santa Coloma de Cervelló\",\"08244\"],\n",
    "        ['MONTCADA I REIXAC',\"Montcada i Reixac\",\"08125\"],['BADIA',\"Badia del Vallès\",\"08904\"],['TIANA',\"Tiana\",\"08282\"],\n",
    "        ['SABADELL',\"Sabadell\",\"08187\"],['RIPOLLET',\"Ripollet\",\"08180\"]]\n",
    "dfMunABData = pd.DataFrame(data, columns=['nom_mun_ABData','nom_mun','cod_mun'])"
   ]
  },
  {
   "cell_type": "code",
   "execution_count": null,
   "metadata": {},
   "outputs": [],
   "source": [
    "def date_conversion(fecha,split_s):\n",
    "    print(fecha)\n",
    "    array_fecha=fecha.split(split_s)\n",
    "    print(array_fecha)\n",
    "    return date(int(array_fecha[2]),int(array_fecha[1]),int(array_fecha[0]),format='%d-%m-%Y')"
   ]
  },
  {
   "cell_type": "code",
   "execution_count": null,
   "metadata": {},
   "outputs": [],
   "source": [
    "dfx = pd.to_datetime(data_forecast.FECHA, errors='coerce')"
   ]
  },
  {
   "cell_type": "code",
   "execution_count": null,
   "metadata": {},
   "outputs": [],
   "source": [
    "dfx"
   ]
  },
  {
   "cell_type": "code",
   "execution_count": null,
   "metadata": {
    "scrolled": true
   },
   "outputs": [],
   "source": [
    "data_forecast=pd.read_csv('C:/Users/usuario/Documents/ABDataChallenge/ABData/UsoDomesticoConsum_quartiles.csv')\n",
    "data_forecast=data_forecast[(data_forecast[\"Nom_Mun\"]=='BARCELONA')&(data_forecast[\"ID_CONTADOR\"]==8)]\n",
    "data_forecast[\"ds\"]=pd.to_datetime(data_forecast.FECHA)\n",
    "data_forecast.drop([\"ID_CONTADOR\",\"Unnamed: 0\",\"Nom_Mun\",\"FECHA\"],axis=1,inplace=True)\n",
    "data_forecast=data_forecast.groupby([\"ds\"]).sum().reset_index()\n",
    "data_forecast=data_forecast.rename(columns={\"CONSUMO\": \"y\"})"
   ]
  },
  {
   "cell_type": "code",
   "execution_count": null,
   "metadata": {},
   "outputs": [],
   "source": [
    "data_forecast.info()"
   ]
  },
  {
   "cell_type": "code",
   "execution_count": null,
   "metadata": {},
   "outputs": [],
   "source": [
    "m = Prophet()\n",
    "m.fit(data_forecast)"
   ]
  },
  {
   "cell_type": "code",
   "execution_count": null,
   "metadata": {},
   "outputs": [],
   "source": [
    "future = m.make_future_dataframe(periods=365)\n",
    "future.tail()"
   ]
  },
  {
   "cell_type": "code",
   "execution_count": null,
   "metadata": {},
   "outputs": [],
   "source": [
    "future2 = future.copy()\n",
    "future2 = future2[future2['ds'].dt.hour < 6]\n",
    "fcst = m.predict(future2)\n",
    "fig = m.plot(fcst)"
   ]
  },
  {
   "cell_type": "code",
   "execution_count": null,
   "metadata": {},
   "outputs": [],
   "source": [
    "forecast = m.predict(future)\n",
    "forecast[['ds', 'yhat', 'yhat_lower', 'yhat_upper']].tail()"
   ]
  },
  {
   "cell_type": "code",
   "execution_count": null,
   "metadata": {},
   "outputs": [],
   "source": [
    "fig1 = m.plot(forecast)\n"
   ]
  },
  {
   "cell_type": "code",
   "execution_count": null,
   "metadata": {},
   "outputs": [],
   "source": [
    "from prophet.plot import add_changepoints_to_plot\n",
    "fig = m.plot(forecast)\n",
    "a = add_changepoints_to_plot(fig.gca(), m, forecast)\n"
   ]
  },
  {
   "cell_type": "code",
   "execution_count": null,
   "metadata": {},
   "outputs": [],
   "source": [
    "m = Prophet(changepoint_prior_scale=0.5)\n",
    "forecast = m.fit(data_forecast).predict(future)\n",
    "fig = m.plot(forecast)"
   ]
  },
  {
   "cell_type": "code",
   "execution_count": null,
   "metadata": {},
   "outputs": [],
   "source": [
    "m = Prophet(changepoint_prior_scale=0.001)\n",
    "forecast = m.fit(data_forecast).predict(future)\n",
    "fig = m.plot(forecast)"
   ]
  },
  {
   "cell_type": "code",
   "execution_count": null,
   "metadata": {},
   "outputs": [],
   "source": [
    "playoffs = pd.DataFrame({\n",
    "  'holiday': 'playoff',\n",
    "  'ds': pd.to_datetime(['2008-01-13', '2009-01-03', '2010-01-16',\n",
    "                        '2010-01-24', '2010-02-07', '2011-01-08',\n",
    "                        '2013-01-12', '2014-01-12', '2014-01-19',\n",
    "                        '2014-02-02', '2015-01-11', '2016-01-17',\n",
    "                        '2016-01-24', '2016-02-07']),\n",
    "  'lower_window': 0,\n",
    "  'upper_window': 1,\n",
    "})\n",
    "superbowls = pd.DataFrame({\n",
    "  'holiday': 'superbowl',\n",
    "  'ds': pd.to_datetime(['2010-02-07', '2014-02-02', '2016-02-07']),\n",
    "  'lower_window': 0,\n",
    "  'upper_window': 1,\n",
    "})\n",
    "holidays = pd.concat((playoffs, superbowls))"
   ]
  },
  {
   "cell_type": "code",
   "execution_count": null,
   "metadata": {},
   "outputs": [],
   "source": [
    "playoffs"
   ]
  },
  {
   "cell_type": "code",
   "execution_count": null,
   "metadata": {},
   "outputs": [],
   "source": [
    "superbowls"
   ]
  },
  {
   "cell_type": "code",
   "execution_count": null,
   "metadata": {},
   "outputs": [],
   "source": [
    "data_forecast=pd.read_csv('C:/Users/usuario/Documents/ABDataChallenge/ABData/UsoDomesticoConsum_quartiles.csv')"
   ]
  },
  {
   "cell_type": "code",
   "execution_count": null,
   "metadata": {},
   "outputs": [],
   "source": [
    "data_forecast.CONSUMO.max()"
   ]
  },
  {
   "cell_type": "code",
   "execution_count": null,
   "metadata": {},
   "outputs": [],
   "source": [
    "df_TCD[df_TCD.Nom_Mun==\"GAVA\"].CONSUMO.sum()"
   ]
  },
  {
   "cell_type": "code",
   "execution_count": null,
   "metadata": {},
   "outputs": [],
   "source": [
    "df_consumo=pd.read_csv('C:/Users/usuario/Documents/ABDataChallenge/ABData/TipoConsumo/Uso_Domestico/BARCELONA.csv')"
   ]
  },
  {
   "cell_type": "code",
   "execution_count": null,
   "metadata": {},
   "outputs": [],
   "source": [
    "df_consumo[df_consumo.CONSUMO > 0].CONSUMO.sum()- df_consumo.CONSUMO.sum()"
   ]
  },
  {
   "cell_type": "code",
   "execution_count": null,
   "metadata": {},
   "outputs": [],
   "source": [
    "df_consumo.CONSUMO.sum() - df_consumo[df_consumo.CONSUMO > 0].CONSUMO.sum()"
   ]
  },
  {
   "cell_type": "code",
   "execution_count": null,
   "metadata": {},
   "outputs": [],
   "source": [
    "63325161080 -(df_consumo[df_consumo.CONSUMO > 0].CONSUMO.sum()*1000)"
   ]
  },
  {
   "cell_type": "code",
   "execution_count": null,
   "metadata": {},
   "outputs": [],
   "source": [
    "df_TCD.to_csv('C:/Users/usuario/Documents/ABDataChallenge/ABData/ConsumoDomestico.csv')"
   ]
  },
  {
   "cell_type": "code",
   "execution_count": null,
   "metadata": {},
   "outputs": [],
   "source": [
    "pd.date_range(start=\"2018-09-09\",end=\"2020-02-02\")["
   ]
  },
  {
   "cell_type": "code",
   "execution_count": null,
   "metadata": {},
   "outputs": [],
   "source": [
    "df_TCD.ds.values[0]"
   ]
  },
  {
   "cell_type": "code",
   "execution_count": null,
   "metadata": {},
   "outputs": [],
   "source": [
    "pd.read_excel(\"C:/Users/usuario/Documents/ABDataChallenge/Renta/renta_historica/renta_2015.xlsx\",skiprows=6)"
   ]
  },
  {
   "cell_type": "code",
   "execution_count": 65,
   "metadata": {},
   "outputs": [
    {
     "data": {
      "text/plain": [
       "['hola', 'adios']"
      ]
     },
     "execution_count": 65,
     "metadata": {},
     "output_type": "execute_result"
    }
   ],
   "source": [
    "[\"hola\"]+[\"adios\"]"
   ]
  },
  {
   "cell_type": "code",
   "execution_count": null,
   "metadata": {},
   "outputs": [],
   "source": []
  }
 ],
 "metadata": {
  "kernelspec": {
   "display_name": "Python 3",
   "language": "python",
   "name": "python3"
  },
  "language_info": {
   "codemirror_mode": {
    "name": "ipython",
    "version": 3
   },
   "file_extension": ".py",
   "mimetype": "text/x-python",
   "name": "python",
   "nbconvert_exporter": "python",
   "pygments_lexer": "ipython3",
   "version": "3.8.5"
  }
 },
 "nbformat": 4,
 "nbformat_minor": 4
}
